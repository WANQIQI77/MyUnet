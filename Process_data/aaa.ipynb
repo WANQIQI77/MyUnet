{
 "cells": [
  {
   "cell_type": "code",
   "execution_count": 2,
   "metadata": {
    "collapsed": true
   },
   "outputs": [
    {
     "name": "stdout",
     "output_type": "stream",
     "text": [
      "(7, 512, 512)\n",
      "0.0\n",
      "502492.5449999999\n",
      "0.0\n",
      "0.0\n",
      "0.0\n",
      "0.0\n",
      "0.0\n",
      "(7, 512, 512)\n",
      "16422\n",
      "5251\n",
      "8591\n",
      "2723\n",
      "42937\n",
      "7540\n",
      "71506\n"
     ]
    }
   ],
   "source": [
    "import numpy as np\n",
    "from PIL import Image\n",
    "loadData = np.load('C:\\Project\\Pycharm\\My-U-Net\\TrainTarget\\Test_numpy\\\\1602.npy')\n",
    "print(loadData.shape)\n",
    "for i in range(7):\n",
    "    print(np.sum(loadData[i]))\n",
    "loadData = np.load('C:\\Project\\Pycharm\\My-U-Net\\TrainTarget\\\\results_numpy\\\\1602.npy')\n",
    "print(loadData.shape)\n",
    "for i in range(7):\n",
    "    print(np.sum(loadData[i]))"
   ]
  },
  {
   "cell_type": "code",
   "execution_count": 5,
   "outputs": [
    {
     "ename": "error",
     "evalue": "OpenCV(4.8.1) d:\\a\\opencv-python\\opencv-python\\opencv\\modules\\imgproc\\src\\color.simd_helpers.hpp:92: error: (-2:Unspecified error) in function '__cdecl cv::impl::`anonymous-namespace'::CvtHelper<struct cv::impl::`anonymous namespace'::Set<3,4,-1>,struct cv::impl::A0xd8611878::Set<1,-1,-1>,struct cv::impl::A0xd8611878::Set<0,2,5>,3>::CvtHelper(const class cv::_InputArray &,const class cv::_OutputArray &,int)'\n> Invalid number of channels in input image:\n>     'VScn::contains(scn)'\n> where\n>     'scn' is 1\n",
     "output_type": "error",
     "traceback": [
      "\u001B[1;31m---------------------------------------------------------------------------\u001B[0m",
      "\u001B[1;31merror\u001B[0m                                     Traceback (most recent call last)",
      "Cell \u001B[1;32mIn[5], line 11\u001B[0m\n\u001B[0;32m      7\u001B[0m image \u001B[38;5;241m=\u001B[39m loadData[\u001B[38;5;241m4\u001B[39m]\n\u001B[0;32m      9\u001B[0m \u001B[38;5;66;03m# 处理图像（这里只是一个示例，你可以根据需求进行更复杂的处理）\u001B[39;00m\n\u001B[0;32m     10\u001B[0m \u001B[38;5;66;03m# 例如，将图像转换为灰度\u001B[39;00m\n\u001B[1;32m---> 11\u001B[0m gray_image \u001B[38;5;241m=\u001B[39m \u001B[43mcv2\u001B[49m\u001B[38;5;241;43m.\u001B[39;49m\u001B[43mcvtColor\u001B[49m\u001B[43m(\u001B[49m\u001B[43mimage\u001B[49m\u001B[43m,\u001B[49m\u001B[43m \u001B[49m\u001B[43mcv2\u001B[49m\u001B[38;5;241;43m.\u001B[39;49m\u001B[43mCOLOR_BGR2GRAY\u001B[49m\u001B[43m)\u001B[49m\n\u001B[0;32m     13\u001B[0m \u001B[38;5;66;03m# 显示原始图像\u001B[39;00m\n\u001B[0;32m     14\u001B[0m plt\u001B[38;5;241m.\u001B[39msubplot(\u001B[38;5;241m1\u001B[39m, \u001B[38;5;241m2\u001B[39m, \u001B[38;5;241m1\u001B[39m)\n",
      "\u001B[1;31merror\u001B[0m: OpenCV(4.8.1) d:\\a\\opencv-python\\opencv-python\\opencv\\modules\\imgproc\\src\\color.simd_helpers.hpp:92: error: (-2:Unspecified error) in function '__cdecl cv::impl::`anonymous-namespace'::CvtHelper<struct cv::impl::`anonymous namespace'::Set<3,4,-1>,struct cv::impl::A0xd8611878::Set<1,-1,-1>,struct cv::impl::A0xd8611878::Set<0,2,5>,3>::CvtHelper(const class cv::_InputArray &,const class cv::_OutputArray &,int)'\n> Invalid number of channels in input image:\n>     'VScn::contains(scn)'\n> where\n>     'scn' is 1\n"
     ]
    }
   ],
   "source": [
    "import cv2\n",
    "import matplotlib.pyplot as plt\n",
    "\n",
    "# 读取图像\n",
    "\n",
    "loadData = np.load('C:\\Project\\Pycharm\\My-U-Net\\TrainTarget\\Test_numpy\\\\1601.npy')\n",
    "image = loadData[4]\n",
    "\n",
    "# 处理图像（这里只是一个示例，你可以根据需求进行更复杂的处理）\n",
    "# 例如，将图像转换为灰度\n",
    "gray_image = cv2.cvtColor(image, cv2.COLOR_BGR2GRAY)\n",
    "\n",
    "# 显示原始图像\n",
    "plt.subplot(1, 2, 1)\n",
    "plt.imshow(cv2.cvtColor(image, cv2.COLOR_BGR2RGB))\n",
    "plt.title('Original Image')\n",
    "\n",
    "# 显示处理后的图像\n",
    "plt.subplot(1, 2, 2)\n",
    "plt.imshow(gray_image, cmap='gray')\n",
    "plt.title('Processed Image')\n",
    "\n",
    "# 显示图像\n",
    "plt.show()\n"
   ],
   "metadata": {
    "collapsed": false
   }
  },
  {
   "cell_type": "code",
   "execution_count": 6,
   "outputs": [
    {
     "data": {
      "text/plain": "<Figure size 640x480 with 1 Axes>",
      "image/png": "[encoded data removed]"
     },
     "metadata": {},
     "output_type": "display_data"
    }
   ],
   "source": [
    "import numpy as np\n",
    "import matplotlib.pyplot as plt\n",
    "\n",
    "# 读取 .npy 文件\n",
    "npy_file_path = 'C:\\Project\\Pycharm\\My-U-Net\\TrainTarget\\Test_numpy\\\\1601.npy'  # 替换为你的 .npy 文件路径\n",
    "image_data = np.load(npy_file_path)\n",
    "\n",
    "# 显示图像\n",
    "plt.imshow(image_data[4], cmap='gray')  # 假设数据是灰度图像\n",
    "plt.title('Loaded Image from .npy File')\n",
    "plt.show()\n"
   ],
   "metadata": {
    "collapsed": false
   }
  },
  {
   "cell_type": "code",
   "execution_count": null,
   "outputs": [],
   "source": [],
   "metadata": {
    "collapsed": false
   }
  }
 ],
 "metadata": {
  "kernelspec": {
   "display_name": "Python 3",
   "language": "python",
   "name": "python3"
  },
  "language_info": {
   "codemirror_mode": {
    "name": "ipython",
    "version": 2
   },
   "file_extension": ".py",
   "mimetype": "text/x-python",
   "name": "python",
   "nbconvert_exporter": "python",
   "pygments_lexer": "ipython2",
   "version": "2.7.6"
  }
 },
 "nbformat": 4,
 "nbformat_minor": 0
}
